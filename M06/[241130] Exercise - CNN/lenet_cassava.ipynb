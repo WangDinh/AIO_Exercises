{
 "cells": [
  {
   "cell_type": "code",
   "execution_count": 43,
   "metadata": {},
   "outputs": [],
   "source": [
    "import os\n",
    "import random\n",
    "import numpy as np\n",
    "\n",
    "import torch\n",
    "import torch.nn as nn\n",
    "import torch.optim as optim\n",
    "import torch.nn.functional as F\n",
    "import torch.utils.data as data\n",
    "\n",
    "import torchvision.transforms as transforms\n",
    "\n",
    "from torchsummary import summary\n",
    "import torchvision.datasets as datasets\n",
    "\n",
    "import matplotlib.pyplot as plt\n",
    "from PIL import Image"
   ]
  },
  {
   "cell_type": "code",
   "execution_count": 44,
   "metadata": {},
   "outputs": [],
   "source": [
    "data_paths = {\n",
    "    'train': './cassavaleafdata/train',\n",
    "    'valid': './cassavaleafdata/validation',\n",
    "    'test': './cassavaleafdata/test'\n",
    "}\n",
    "\n",
    "# load image from path\n",
    "def loader(path):\n",
    "    return Image.open(path)"
   ]
  },
  {
   "cell_type": "code",
   "execution_count": 45,
   "metadata": {},
   "outputs": [],
   "source": [
    "img_size = 150\n",
    "\n",
    "train_transforms = transforms.Compose([\n",
    "    transforms.Resize((150, 150)),\n",
    "    transforms.ToTensor(),\n",
    "])\n",
    "\n",
    "train_data = datasets.ImageFolder(\n",
    "    root=data_paths['train'],\n",
    "    loader=loader,\n",
    "    transform=train_transforms\n",
    ")\n",
    "valid_data = datasets.ImageFolder(\n",
    "    root=data_paths['valid'],\n",
    "    transform=train_transforms\n",
    ")\n",
    "test_data = datasets.ImageFolder(\n",
    "    root=data_paths['test'],\n",
    "    transform=train_transforms\n",
    ")"
   ]
  },
  {
   "cell_type": "code",
   "execution_count": 46,
   "metadata": {},
   "outputs": [],
   "source": [
    "BATCH_SIZE = 512\n",
    "\n",
    "train_dataloader = data.DataLoader(\n",
    "    train_data,\n",
    "    shuffle=True,\n",
    "    batch_size=BATCH_SIZE\n",
    ")\n",
    "valid_dataloader = data.DataLoader(\n",
    "    valid_data,\n",
    "    batch_size=BATCH_SIZE\n",
    ")\n",
    "test_dataloader = data.DataLoader(\n",
    "    test_data,\n",
    "    batch_size=BATCH_SIZE\n",
    ")"
   ]
  },
  {
   "cell_type": "code",
   "execution_count": 47,
   "metadata": {},
   "outputs": [],
   "source": [
    "inputs, labels = next(iter(train_dataloader))"
   ]
  },
  {
   "cell_type": "code",
   "execution_count": 48,
   "metadata": {},
   "outputs": [],
   "source": [
    "class LeNetClassifier(nn.Module):\n",
    "    def __init__(self, num_classes):\n",
    "        super().__init__()\n",
    "        self.conv1 = nn.Conv2d(\n",
    "            in_channels=3, out_channels=6, kernel_size=5, padding='same'\n",
    "        )\n",
    "        self.avgpool1 = nn.AvgPool2d(kernel_size=2)\n",
    "        self.conv2 = nn.Conv2d(in_channels=6, out_channels=16, kernel_size=5)\n",
    "        self.avgpool2 = nn.AvgPool2d(kernel_size=2)\n",
    "        self.flatten = nn.Flatten()\n",
    "        self.fc_1 = nn.Linear(16 * 35 * 35, 120)\n",
    "        self.fc_2 = nn.Linear(120, 84)\n",
    "        self.fc_3 = nn.Linear(84, num_classes)\n",
    "\n",
    "    def forward(self, inputs):\n",
    "        outputs = self.conv1(inputs)\n",
    "        outputs = self.avgpool1(outputs)\n",
    "        outputs = F.relu(outputs)\n",
    "        outputs = self.conv2(outputs)\n",
    "        outputs = self.avgpool2(outputs)\n",
    "        outputs = F.relu(outputs)\n",
    "        outputs = self.flatten(outputs)\n",
    "        outputs = self.fc_1(outputs)\n",
    "        outputs = self.fc_2(outputs)\n",
    "        outputs = self.fc_3(outputs)\n",
    "        return outputs"
   ]
  },
  {
   "cell_type": "code",
   "execution_count": 50,
   "metadata": {},
   "outputs": [],
   "source": [
    "num_classes = len(train_data.classes)\n",
    "lenet_model = LeNetClassifier(num_classes)\n",
    "predictions = lenet_model(inputs)"
   ]
  },
  {
   "cell_type": "code",
   "execution_count": 51,
   "metadata": {},
   "outputs": [
    {
     "name": "stdout",
     "output_type": "stream",
     "text": [
      "==========================================================================================\n",
      "Layer (type:depth-idx)                   Output Shape              Param #\n",
      "==========================================================================================\n",
      "├─Conv2d: 1-1                            [-1, 6, 150, 150]         456\n",
      "├─AvgPool2d: 1-2                         [-1, 6, 75, 75]           --\n",
      "├─Conv2d: 1-3                            [-1, 16, 71, 71]          2,416\n",
      "├─AvgPool2d: 1-4                         [-1, 16, 35, 35]          --\n",
      "├─Flatten: 1-5                           [-1, 19600]               --\n",
      "├─Linear: 1-6                            [-1, 120]                 2,352,120\n",
      "├─Linear: 1-7                            [-1, 84]                  10,164\n",
      "├─Linear: 1-8                            [-1, 5]                   425\n",
      "==========================================================================================\n",
      "Total params: 2,365,581\n",
      "Trainable params: 2,365,581\n",
      "Non-trainable params: 0\n",
      "Total mult-adds (M): 24.59\n",
      "==========================================================================================\n",
      "Input size (MB): 0.26\n",
      "Forward/backward pass size (MB): 1.65\n",
      "Params size (MB): 9.02\n",
      "Estimated Total Size (MB): 10.93\n",
      "==========================================================================================\n"
     ]
    },
    {
     "data": {
      "text/plain": [
       "==========================================================================================\n",
       "Layer (type:depth-idx)                   Output Shape              Param #\n",
       "==========================================================================================\n",
       "├─Conv2d: 1-1                            [-1, 6, 150, 150]         456\n",
       "├─AvgPool2d: 1-2                         [-1, 6, 75, 75]           --\n",
       "├─Conv2d: 1-3                            [-1, 16, 71, 71]          2,416\n",
       "├─AvgPool2d: 1-4                         [-1, 16, 35, 35]          --\n",
       "├─Flatten: 1-5                           [-1, 19600]               --\n",
       "├─Linear: 1-6                            [-1, 120]                 2,352,120\n",
       "├─Linear: 1-7                            [-1, 84]                  10,164\n",
       "├─Linear: 1-8                            [-1, 5]                   425\n",
       "==========================================================================================\n",
       "Total params: 2,365,581\n",
       "Trainable params: 2,365,581\n",
       "Non-trainable params: 0\n",
       "Total mult-adds (M): 24.59\n",
       "==========================================================================================\n",
       "Input size (MB): 0.26\n",
       "Forward/backward pass size (MB): 1.65\n",
       "Params size (MB): 9.02\n",
       "Estimated Total Size (MB): 10.93\n",
       "=========================================================================================="
      ]
     },
     "execution_count": 51,
     "metadata": {},
     "output_type": "execute_result"
    }
   ],
   "source": [
    "summary(lenet_model, (3, 150, 150))"
   ]
  },
  {
   "cell_type": "code",
   "execution_count": 52,
   "metadata": {},
   "outputs": [
    {
     "data": {
      "text/plain": [
       "LeNetClassifier(\n",
       "  (conv1): Conv2d(3, 6, kernel_size=(5, 5), stride=(1, 1), padding=same)\n",
       "  (avgpool1): AvgPool2d(kernel_size=2, stride=2, padding=0)\n",
       "  (conv2): Conv2d(6, 16, kernel_size=(5, 5), stride=(1, 1))\n",
       "  (avgpool2): AvgPool2d(kernel_size=2, stride=2, padding=0)\n",
       "  (flatten): Flatten(start_dim=1, end_dim=-1)\n",
       "  (fc_1): Linear(in_features=19600, out_features=120, bias=True)\n",
       "  (fc_2): Linear(in_features=120, out_features=84, bias=True)\n",
       "  (fc_3): Linear(in_features=84, out_features=5, bias=True)\n",
       ")"
      ]
     },
     "execution_count": 52,
     "metadata": {},
     "output_type": "execute_result"
    }
   ],
   "source": [
    "optimizer = optim.Adam(lenet_model.parameters())\n",
    "criterion = nn.CrossEntropyLoss()\n",
    "loss = criterion(predictions, labels)\n",
    "device = torch.device('cuda' if torch.cuda.is_available() else 'cpu')\n",
    "lenet_model.to(device)"
   ]
  },
  {
   "cell_type": "code",
   "execution_count": 53,
   "metadata": {},
   "outputs": [],
   "source": [
    "import time\n",
    "\n",
    "def train(model, optimizer, criterion, train_dataloader, device, epoch=0, log_interval=15):\n",
    "    model.train()\n",
    "    total_acc, total_count = 0, 0\n",
    "    losses = []\n",
    "    start_time = time.time()\n",
    "\n",
    "    for idx, (inputs, labels) in enumerate(train_dataloader):\n",
    "        inputs = inputs.to(device)\n",
    "        labels = labels.to(device)\n",
    "\n",
    "        optimizer.zero_grad()\n",
    "\n",
    "        predictions = model(inputs)\n",
    "\n",
    "        # compute loss\n",
    "        loss = criterion(predictions, labels)\n",
    "        losses.append(loss.item())\n",
    "\n",
    "        # backward\n",
    "        loss.backward()\n",
    "        optimizer.step()\n",
    "        total_acc += (predictions.argmax(1) == labels).sum().item()\n",
    "        total_count += labels.size(0)\n",
    "        if idx % log_interval == 0 and idx > 0:\n",
    "            elapsed = time.time() - start_time\n",
    "            print(\n",
    "                \"| epoch {:3d} | {:5d}/{:5d} batches \"\n",
    "                \"| accuracy {:8.3f}\".format(\n",
    "                    epoch, idx, len(train_dataloader), total_acc / total_count\n",
    "                )\n",
    "            )\n",
    "            total_acc, total_count = 0, 0\n",
    "            start_time = time.time()\n",
    "\n",
    "    epoch_acc = total_acc / total_count\n",
    "    epoch_loss = sum(losses) / len(losses)\n",
    "    return epoch_acc, epoch_loss"
   ]
  },
  {
   "cell_type": "code",
   "execution_count": 54,
   "metadata": {},
   "outputs": [],
   "source": [
    "train_acc, train_loss = train(lenet_model, optimizer, criterion, train_dataloader, device)"
   ]
  },
  {
   "cell_type": "code",
   "execution_count": 55,
   "metadata": {},
   "outputs": [
    {
     "data": {
      "text/plain": [
       "(0.4207920792079208, 1.3899329006671906)"
      ]
     },
     "execution_count": 55,
     "metadata": {},
     "output_type": "execute_result"
    }
   ],
   "source": [
    "train_acc, train_loss"
   ]
  },
  {
   "cell_type": "code",
   "execution_count": 56,
   "metadata": {},
   "outputs": [],
   "source": [
    "def evaluate(model, criterion, valid_dataloader, device):\n",
    "    model.eval()\n",
    "    total_acc, total_count = 0, 0\n",
    "    losses = []\n",
    "\n",
    "    with torch.no_grad():\n",
    "        for idx, (inputs, labels) in enumerate(valid_dataloader):\n",
    "            inputs = inputs.to(device)\n",
    "            labels = labels.to(device)\n",
    "\n",
    "            predictions = model(inputs)\n",
    "\n",
    "            loss = criterion(predictions, labels)\n",
    "            losses.append(loss.item())\n",
    "\n",
    "            total_acc += (predictions.argmax(1) == labels).sum().item()\n",
    "            total_count += labels.size(0)\n",
    "\n",
    "    epoch_acc = total_acc / total_count\n",
    "    epoch_loss = sum(losses) / len(losses)\n",
    "    return epoch_acc, epoch_loss"
   ]
  },
  {
   "cell_type": "code",
   "execution_count": 57,
   "metadata": {},
   "outputs": [],
   "source": [
    "eval_acc, eval_loss = evaluate(lenet_model, criterion, valid_dataloader, device)"
   ]
  },
  {
   "cell_type": "code",
   "execution_count": 58,
   "metadata": {},
   "outputs": [
    {
     "data": {
      "text/plain": [
       "(0.4695606140815246, 1.33484847843647)"
      ]
     },
     "execution_count": 58,
     "metadata": {},
     "output_type": "execute_result"
    }
   ],
   "source": [
    "eval_acc, eval_loss"
   ]
  },
  {
   "cell_type": "code",
   "execution_count": 59,
   "metadata": {},
   "outputs": [
    {
     "name": "stdout",
     "output_type": "stream",
     "text": [
      "| epoch   1 |    10/   12 batches | accuracy    0.433\n",
      "-----------------------------------------------------------\n",
      "| End of epoch   1 | Time: 48.93s | Train Accuracy    0.458 | Train Loss    1.417 | Valid Accuracy    0.471 | Valid Loss    1.378 \n",
      "-----------------------------------------------------------\n",
      "| epoch   2 |    10/   12 batches | accuracy    0.469\n",
      "-----------------------------------------------------------\n",
      "| End of epoch   2 | Time: 62.05s | Train Accuracy    0.750 | Train Loss    1.321 | Valid Accuracy    0.474 | Valid Loss    1.330 \n",
      "-----------------------------------------------------------\n",
      "| epoch   3 |    10/   12 batches | accuracy    0.477\n",
      "-----------------------------------------------------------\n",
      "| End of epoch   3 | Time: 101.26s | Train Accuracy    0.458 | Train Loss    1.332 | Valid Accuracy    0.489 | Valid Loss    1.324 \n",
      "-----------------------------------------------------------\n",
      "| epoch   4 |    10/   12 batches | accuracy    0.480\n",
      "-----------------------------------------------------------\n",
      "| End of epoch   4 | Time: 67.72s | Train Accuracy    0.542 | Train Loss    1.299 | Valid Accuracy    0.490 | Valid Loss    1.295 \n",
      "-----------------------------------------------------------\n",
      "| epoch   5 |    10/   12 batches | accuracy    0.487\n",
      "-----------------------------------------------------------\n",
      "| End of epoch   5 | Time: 45.01s | Train Accuracy    0.375 | Train Loss    1.299 | Valid Accuracy    0.509 | Valid Loss    1.286 \n",
      "-----------------------------------------------------------\n",
      "| epoch   6 |    10/   12 batches | accuracy    0.503\n",
      "-----------------------------------------------------------\n",
      "| End of epoch   6 | Time: 42.84s | Train Accuracy    0.417 | Train Loss    1.260 | Valid Accuracy    0.523 | Valid Loss    1.281 \n",
      "-----------------------------------------------------------\n",
      "| epoch   7 |    10/   12 batches | accuracy    0.512\n",
      "-----------------------------------------------------------\n",
      "| End of epoch   7 | Time: 43.14s | Train Accuracy    0.667 | Train Loss    1.239 | Valid Accuracy    0.525 | Valid Loss    1.254 \n",
      "-----------------------------------------------------------\n",
      "| epoch   8 |    10/   12 batches | accuracy    0.521\n",
      "-----------------------------------------------------------\n",
      "| End of epoch   8 | Time: 43.42s | Train Accuracy    0.333 | Train Loss    1.249 | Valid Accuracy    0.525 | Valid Loss    1.235 \n",
      "-----------------------------------------------------------\n",
      "| epoch   9 |    10/   12 batches | accuracy    0.525\n",
      "-----------------------------------------------------------\n",
      "| End of epoch   9 | Time: 42.38s | Train Accuracy    0.500 | Train Loss    1.222 | Valid Accuracy    0.526 | Valid Loss    1.212 \n",
      "-----------------------------------------------------------\n",
      "| epoch  10 |    10/   12 batches | accuracy    0.544\n",
      "-----------------------------------------------------------\n",
      "| End of epoch  10 | Time: 42.80s | Train Accuracy    0.542 | Train Loss    1.190 | Valid Accuracy    0.546 | Valid Loss    1.198 \n",
      "-----------------------------------------------------------\n"
     ]
    }
   ],
   "source": [
    "num_classes = len(train_data.classes)\n",
    "\n",
    "device = torch.device('cuda' if torch.cuda.is_available() else 'cpu')\n",
    "\n",
    "lenet_model = LeNetClassifier(num_classes)\n",
    "lenet_model.to(device)\n",
    "\n",
    "criterion = torch.nn.CrossEntropyLoss()\n",
    "learning_rate = 2e-4\n",
    "optimizer = optim.Adam(lenet_model.parameters(), learning_rate)\n",
    "\n",
    "num_epochs = 10\n",
    "save_model = './model'\n",
    "\n",
    "train_accs, train_losses = [], []\n",
    "eval_accs, eval_losses = [], []\n",
    "best_loss_eval = 100\n",
    "\n",
    "for epoch in range(1, num_epochs+1):\n",
    "    epoch_start_time = time.time()\n",
    "    # Training\n",
    "    train_acc, train_loss = train(lenet_model, optimizer, criterion, train_dataloader, device, epoch, log_interval=10)\n",
    "    train_accs.append(train_acc)\n",
    "    train_losses.append(train_loss)\n",
    "\n",
    "    # Evaluation\n",
    "    eval_acc, eval_loss = evaluate(lenet_model, criterion, valid_dataloader, device)\n",
    "    eval_accs.append(eval_acc)\n",
    "    eval_losses.append(eval_loss)\n",
    "\n",
    "    # Save best model\n",
    "    if eval_loss < best_loss_eval:\n",
    "        torch.save(lenet_model.state_dict(), save_model + '/lenet_model.pt')\n",
    "\n",
    "    # Print loss, acc end epoch\n",
    "    print(\"-\" * 59)\n",
    "    print(\n",
    "        \"| End of epoch {:3d} | Time: {:5.2f}s | Train Accuracy {:8.3f} | Train Loss {:8.3f} \"\n",
    "        \"| Valid Accuracy {:8.3f} | Valid Loss {:8.3f} \".format(\n",
    "            epoch, time.time() - epoch_start_time, train_acc, train_loss, eval_acc, eval_loss\n",
    "        )\n",
    "    )\n",
    "    print(\"-\" * 59)\n",
    "\n",
    "    # Load best model\n",
    "    lenet_model.load_state_dict(torch.load(save_model + '/lenet_model.pt', weights_only=True))\n",
    "    lenet_model.eval()"
   ]
  },
  {
   "cell_type": "code",
   "execution_count": 60,
   "metadata": {},
   "outputs": [
    {
     "data": {
      "image/png": "[encoded data removed]",
      "text/plain": [
       "<Figure size 1200x600 with 2 Axes>"
      ]
     },
     "metadata": {},
     "output_type": "display_data"
    }
   ],
   "source": [
    "def plot_result(num_epochs, train_accs, eval_accs, train_losses, eval_losses):\n",
    "    epochs = list(range(num_epochs))\n",
    "    fig, axs = plt.subplots(nrows = 1, ncols =2 , figsize = (12,6))\n",
    "    axs[0].plot(epochs, train_accs, label = \"Training\")\n",
    "    axs[0].plot(epochs, eval_accs, label = \"Evaluation\")\n",
    "    axs[1].plot(epochs, train_losses, label = \"Training\")\n",
    "    axs[1].plot(epochs, eval_losses, label = \"Evaluation\")\n",
    "    axs[0].set_xlabel(\"Epochs\")\n",
    "    axs[1].set_xlabel(\"Epochs\")\n",
    "    axs[0].set_ylabel(\"Accuracy\")\n",
    "    axs[1].set_ylabel(\"Loss\")\n",
    "    plt.legend()\n",
    "\n",
    "plot_result(num_epochs, train_accs, eval_accs, train_losses, eval_losses)"
   ]
  },
  {
   "cell_type": "code",
   "execution_count": 61,
   "metadata": {},
   "outputs": [
    {
     "data": {
      "text/plain": [
       "(0.556498673740053, 1.1732499450445175)"
      ]
     },
     "execution_count": 61,
     "metadata": {},
     "output_type": "execute_result"
    }
   ],
   "source": [
    "test_acc, test_loss = evaluate(lenet_model, criterion, test_dataloader, device)\n",
    "test_acc, test_loss"
   ]
  },
  {
   "cell_type": "code",
   "execution_count": 62,
   "metadata": {},
   "outputs": [],
   "source": [
    "def load_model(model_path, num_classes=5):\n",
    "    lenet_model = LeNetClassifier(num_classes)\n",
    "    lenet_model.load_state_dict(torch.load(model_path, weights_only=True))\n",
    "    lenet_model.eval()\n",
    "    return lenet_model\n",
    "\n",
    "def inference(img_path, model):\n",
    "    image = Image.open(img_path)\n",
    "    img_size = 150\n",
    "\n",
    "    img_transform = transforms.Compose([\n",
    "        transforms.Resize((150, 150)),\n",
    "        transforms.ToTensor(),\n",
    "    ])\n",
    "    img_new = img_transform(image)\n",
    "    img_new = torch.unsqueeze(img_new, 0)\n",
    "    with torch.no_grad():\n",
    "        predictions = model(img_new)\n",
    "    preds = nn.Softmax(dim=1)(predictions)\n",
    "    p_max, yhat = torch.max(preds.data, 1)\n",
    "    return p_max.item(), yhat.item()"
   ]
  },
  {
   "cell_type": "code",
   "execution_count": 63,
   "metadata": {},
   "outputs": [
    {
     "data": {
      "text/plain": [
       "(0.4802100658416748, 1)"
      ]
     },
     "execution_count": 63,
     "metadata": {},
     "output_type": "execute_result"
    }
   ],
   "source": [
    "model = load_model('./model/lenet_model.pt')\n",
    "preds = inference('./cassavaleafdata/test/cbsd/test-cbsd-1.jpg', model)\n",
    "preds"
   ]
  },
  {
   "cell_type": "code",
   "execution_count": 64,
   "metadata": {},
   "outputs": [
    {
     "data": {
      "text/plain": [
       "{'cbb': 0, 'cbsd': 1, 'cgm': 2, 'cmd': 3, 'healthy': 4}"
      ]
     },
     "execution_count": 64,
     "metadata": {},
     "output_type": "execute_result"
    }
   ],
   "source": [
    "train_data.class_to_idx"
   ]
  },
  {
   "cell_type": "code",
   "execution_count": 65,
   "metadata": {},
   "outputs": [],
   "source": [
    "idx2label = {\n",
    "  0: 'cbb',\n",
    "  1: 'cbsd',\n",
    "  2: 'cgm',\n",
    "  3: 'cmd',\n",
    "  4: 'healthy',\n",
    "}"
   ]
  },
  {
   "cell_type": "code",
   "execution_count": 66,
   "metadata": {},
   "outputs": [
    {
     "data": {
      "text/plain": [
       "'healthy'"
      ]
     },
     "execution_count": 66,
     "metadata": {},
     "output_type": "execute_result"
    }
   ],
   "source": [
    "idx2label[4]"
   ]
  }
 ],
 "metadata": {
  "kernelspec": {
   "display_name": "aie",
   "language": "python",
   "name": "python3"
  },
  "language_info": {
   "codemirror_mode": {
    "name": "ipython",
    "version": 3
   },
   "file_extension": ".py",
   "mimetype": "text/x-python",
   "name": "python",
   "nbconvert_exporter": "python",
   "pygments_lexer": "ipython3",
   "version": "3.11.8"
  }
 },
 "nbformat": 4,
 "nbformat_minor": 2
}
