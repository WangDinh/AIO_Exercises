{
 "cells": [
  {
   "cell_type": "markdown",
   "metadata": {},
   "source": [
    "# Ex 1"
   ]
  },
  {
   "cell_type": "code",
   "execution_count": 1,
   "metadata": {},
   "outputs": [
    {
     "name": "stdout",
     "output_type": "stream",
     "text": [
      "tensor([0.0900, 0.2447, 0.6652])\n",
      "tensor([0.0900, 0.2447, 0.6652])\n"
     ]
    }
   ],
   "source": [
    "import torch\n",
    "import torch.nn as nn\n",
    "\n",
    "class Softmax(nn.Module):\n",
    "    def __init__(self):\n",
    "        super(Softmax, self).__init__()\n",
    "        \n",
    "    def forward(self, x):\n",
    "        exp_x = torch.exp(x)\n",
    "        return exp_x / torch.sum(exp_x, dim=0)\n",
    "\n",
    "class SoftmaxStable(nn.Module):\n",
    "    def __init__(self):\n",
    "        super(SoftmaxStable, self).__init__()\n",
    "        \n",
    "    def forward(self, x):\n",
    "        c = torch.max(x)\n",
    "        exp_x = torch.exp(x - c)\n",
    "        return exp_x / torch.sum(exp_x, dim=0)\n",
    "\n",
    "# Examples\n",
    "data = torch.Tensor([1, 2, 3])\n",
    "softmax = Softmax()\n",
    "output = softmax(data)\n",
    "print(output)\n",
    "# >> tensor([0.0900, 0.2447, 0.6652])\n",
    "\n",
    "softmax_stable = SoftmaxStable()\n",
    "output_stable = softmax_stable(data)\n",
    "print(output_stable)\n",
    "# >> tensor([0.0900, 0.2447, 0.6652])\n"
   ]
  },
  {
   "cell_type": "markdown",
   "metadata": {},
   "source": [
    "# Ex 2"
   ]
  },
  {
   "cell_type": "code",
   "execution_count": 2,
   "metadata": {},
   "outputs": [],
   "source": [
    "class Person:\n",
    "    def __init__(self, name, yob):\n",
    "        self.name = name\n",
    "        self.yob = yob\n",
    "\n",
    "    def describe(self):\n",
    "        return f\"Name: {self.name}, YoB: {self.yob}\"\n",
    "\n",
    "class Student(Person):\n",
    "    def __init__(self, name, yob, grade):\n",
    "        super().__init__(name, yob)\n",
    "        self.grade = grade\n",
    "\n",
    "    def describe(self):\n",
    "        return f\"Student - {super().describe()} - Grade: {self.grade}\"\n",
    "\n",
    "class Doctor(Person):\n",
    "    def __init__(self, name, yob, specialist):\n",
    "        super().__init__(name, yob)\n",
    "        self.specialist = specialist\n",
    "\n",
    "    def describe(self):\n",
    "        return f\"Doctor - {super().describe()} - Specialist: {self.specialist}\"\n",
    "\n",
    "class Teacher(Person):\n",
    "    def __init__(self, name, yob, subject):\n",
    "        super().__init__(name, yob)\n",
    "        self.subject = subject\n",
    "\n",
    "    def describe(self):\n",
    "        return f\"Teacher - {super().describe()} - Subject: {self.subject}\"\n"
   ]
  },
  {
   "cell_type": "code",
   "execution_count": 15,
   "metadata": {},
   "outputs": [],
   "source": [
    "class Ward:\n",
    "    def __init__(self, name):\n",
    "        self.name = name\n",
    "        self.people = []\n",
    "\n",
    "    def add_person(self, person):\n",
    "        self.people.append(person)\n",
    "\n",
    "    def describe(self):\n",
    "        return f\"Ward Name: {self.name}\\n\" + \"\\n\".join([person.describe() for person in self.people])\n",
    "\n",
    "    def count_doctors(self):\n",
    "        return sum(1 for person in self.people if isinstance(person, Doctor))\n",
    "\n",
    "    def sort_age(self):\n",
    "        self.people.sort(key=lambda person: person.yob)\n",
    "\n",
    "    def compute_average(self):\n",
    "        teachers = [person for person in self.people if isinstance(person, Teacher)]\n",
    "        if not teachers:\n",
    "            return 0\n",
    "        return sum(teacher.yob for teacher in teachers) / len(teachers)\n"
   ]
  },
  {
   "cell_type": "markdown",
   "metadata": {},
   "source": [
    "## 2(a)"
   ]
  },
  {
   "cell_type": "code",
   "execution_count": 16,
   "metadata": {},
   "outputs": [
    {
     "name": "stdout",
     "output_type": "stream",
     "text": [
      "Student - Name: studentA, YoB: 2010 - Grade: 7\n",
      "Teacher - Name: teacherA, YoB: 1969 - Subject: Math\n",
      "Doctor - Name: doctorA, YoB: 1945 - Specialist: Endocrinologists\n"
     ]
    }
   ],
   "source": [
    "student1 = Student(name=\"studentA\", yob=2010, grade=\"7\")\n",
    "print(student1.describe())\n",
    "\n",
    "teacher1 = Teacher(name=\"teacherA\", yob=1969, subject=\"Math\")\n",
    "print(teacher1.describe())\n",
    "\n",
    "doctor1 = Doctor(name=\"doctorA\", yob=1945, specialist=\"Endocrinologists\")\n",
    "print(doctor1.describe())"
   ]
  },
  {
   "cell_type": "markdown",
   "metadata": {},
   "source": [
    "## 2(b)"
   ]
  },
  {
   "cell_type": "code",
   "execution_count": 17,
   "metadata": {},
   "outputs": [
    {
     "name": "stdout",
     "output_type": "stream",
     "text": [
      "Ward Name: Ward1\n",
      "Student - Name: studentA, YoB: 2010 - Grade: 7\n",
      "Teacher - Name: teacherA, YoB: 1969 - Subject: Math\n",
      "Teacher - Name: teacherB, YoB: 1995 - Subject: History\n",
      "Doctor - Name: doctorA, YoB: 1945 - Specialist: Endocrinologists\n",
      "Doctor - Name: doctorB, YoB: 1975 - Specialist: Cardiologists\n"
     ]
    }
   ],
   "source": [
    "teacher2 = Teacher(name=\"teacherB\", yob=1995, subject=\"History\")\n",
    "doctor2 = Doctor(name=\"doctorB\", yob=1975, specialist=\"Cardiologists\")\n",
    "ward1 = Ward(name=\"Ward1\")\n",
    "\n",
    "ward1.add_person(student1)\n",
    "ward1.add_person(teacher1)\n",
    "ward1.add_person(teacher2)\n",
    "ward1.add_person(doctor1)\n",
    "ward1.add_person(doctor2)\n",
    "\n",
    "print(ward1.describe())"
   ]
  },
  {
   "cell_type": "markdown",
   "metadata": {},
   "source": [
    "## 2(c)"
   ]
  },
  {
   "cell_type": "code",
   "execution_count": 18,
   "metadata": {},
   "outputs": [
    {
     "name": "stdout",
     "output_type": "stream",
     "text": [
      "Number of Doctors: 2\n"
     ]
    }
   ],
   "source": [
    "print(\"Number of Doctors:\", ward1.count_doctors())"
   ]
  },
  {
   "cell_type": "markdown",
   "metadata": {},
   "source": [
    "## 2(d)"
   ]
  },
  {
   "cell_type": "code",
   "execution_count": 19,
   "metadata": {},
   "outputs": [
    {
     "name": "stdout",
     "output_type": "stream",
     "text": [
      "\n",
      "After sorting Age of Ward1 people\n",
      "Ward Name: Ward1\n",
      "Doctor - Name: doctorA, YoB: 1945 - Specialist: Endocrinologists\n",
      "Teacher - Name: teacherA, YoB: 1969 - Subject: Math\n",
      "Doctor - Name: doctorB, YoB: 1975 - Specialist: Cardiologists\n",
      "Teacher - Name: teacherB, YoB: 1995 - Subject: History\n",
      "Student - Name: studentA, YoB: 2010 - Grade: 7\n"
     ]
    }
   ],
   "source": [
    "print(\"\\nAfter sorting Age of Ward1 people\")\n",
    "ward1.sort_age()\n",
    "print(ward1.describe())"
   ]
  },
  {
   "cell_type": "markdown",
   "metadata": {},
   "source": [
    "## 2(e)"
   ]
  },
  {
   "cell_type": "code",
   "execution_count": 20,
   "metadata": {},
   "outputs": [
    {
     "name": "stdout",
     "output_type": "stream",
     "text": [
      "\n",
      "Average year of birth (teachers): 1982.0\n"
     ]
    }
   ],
   "source": [
    "print(f\"\\nAverage year of birth (teachers): {ward1.compute_average()}\")"
   ]
  },
  {
   "cell_type": "markdown",
   "metadata": {},
   "source": [
    "# Ex 3"
   ]
  },
  {
   "cell_type": "code",
   "execution_count": 25,
   "metadata": {},
   "outputs": [],
   "source": [
    "class Stack:\n",
    "    def __init__(self, capacity):\n",
    "        self.capacity = capacity\n",
    "        self.elements = []\n",
    "    \n",
    "    def is_empty(self):\n",
    "        return len(self.elements) == 0\n",
    "    \n",
    "    def is_full(self):\n",
    "        return len(self.elements) == self.capacity\n",
    "    \n",
    "    def pop(self):\n",
    "        if self.is_empty():\n",
    "            raise IndexError(\"pop from empty stack\")\n",
    "        return self.elements.pop()\n",
    "    \n",
    "    def push(self, value):\n",
    "        if self.is_full():\n",
    "            raise OverflowError(\"push to full stack\")\n",
    "        self.elements.append(value)\n",
    "    \n",
    "    def top(self):\n",
    "        if self.is_empty():\n",
    "            raise IndexError(\"top from empty stack\")\n",
    "        return self.elements[-1]\n"
   ]
  },
  {
   "cell_type": "code",
   "execution_count": 28,
   "metadata": {},
   "outputs": [
    {
     "name": "stdout",
     "output_type": "stream",
     "text": [
      "False\n",
      "2\n",
      "2\n",
      "1\n",
      "1\n",
      "True\n"
     ]
    }
   ],
   "source": [
    "stack1 = Stack(capacity=5)\n",
    "\n",
    "stack1.push(1)\n",
    "stack1.push(2)\n",
    "\n",
    "print(stack1.is_full())\n",
    "print(stack1.top())\n",
    "print(stack1.pop())\n",
    "print(stack1.top())\n",
    "print(stack1.pop())\n",
    "print(stack1.is_empty())\n"
   ]
  },
  {
   "cell_type": "markdown",
   "metadata": {},
   "source": [
    "# Ex 4"
   ]
  },
  {
   "cell_type": "code",
   "execution_count": 29,
   "metadata": {},
   "outputs": [],
   "source": [
    "class Queue:\n",
    "    def __init__(self, capacity):\n",
    "        self.capacity = capacity\n",
    "        self.elements = []\n",
    "    \n",
    "    def is_empty(self):\n",
    "        return len(self.elements) == 0\n",
    "    \n",
    "    def is_full(self):\n",
    "        return len(self.elements) == self.capacity\n",
    "    \n",
    "    def dequeue(self):\n",
    "        if self.is_empty():\n",
    "            raise IndexError(\"dequeue from empty queue\")\n",
    "        return self.elements.pop(0)\n",
    "    \n",
    "    def enqueue(self, value):\n",
    "        if self.is_full():\n",
    "            raise OverflowError(\"enqueue to full queue\")\n",
    "        self.elements.append(value)\n",
    "    \n",
    "    def front(self):\n",
    "        if self.is_empty():\n",
    "            raise IndexError(\"front from empty queue\")\n",
    "        return self.elements[0]\n"
   ]
  },
  {
   "cell_type": "code",
   "execution_count": 32,
   "metadata": {},
   "outputs": [
    {
     "name": "stdout",
     "output_type": "stream",
     "text": [
      "False\n",
      "1\n",
      "1\n",
      "2\n",
      "2\n",
      "True\n"
     ]
    }
   ],
   "source": [
    "queue1 = Queue(capacity=5)\n",
    "\n",
    "queue1.enqueue(1)\n",
    "queue1.enqueue(2)\n",
    "\n",
    "print(queue1.is_full())\n",
    "print(queue1.front())\n",
    "print(queue1.dequeue())\n",
    "print(queue1.front())\n",
    "print(queue1.dequeue())\n",
    "print(queue1.is_empty())"
   ]
  }
 ],
 "metadata": {
  "kernelspec": {
   "display_name": "aie",
   "language": "python",
   "name": "python3"
  },
  "language_info": {
   "codemirror_mode": {
    "name": "ipython",
    "version": 3
   },
   "file_extension": ".py",
   "mimetype": "text/x-python",
   "name": "python",
   "nbconvert_exporter": "python",
   "pygments_lexer": "ipython3",
   "version": "3.11.8"
  }
 },
 "nbformat": 4,
 "nbformat_minor": 2
}
