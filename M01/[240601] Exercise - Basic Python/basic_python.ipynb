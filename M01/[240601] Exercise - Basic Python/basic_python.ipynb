{
 "cells": [
  {
   "cell_type": "markdown",
   "metadata": {},
   "source": [
    "# Ex 1"
   ]
  },
  {
   "cell_type": "code",
   "execution_count": 2,
   "metadata": {},
   "outputs": [],
   "source": [
    "def cal_classification_metric(tp, fp, fn):\n",
    "    if not isinstance(tp, int) or not isinstance(fp, int) or not isinstance(fn, int):\n",
    "        print(\"Input values must be integers.\")\n",
    "        return\n",
    "\n",
    "    if tp <= 0 or fp <= 0 or fn <= 0:\n",
    "        print(\"tp and fp and fn must be greater than zero\")\n",
    "        return\n",
    "    \n",
    "    precision = tp / (tp + fp)\n",
    "    recall = tp / (tp + fn)\n",
    "    f1 = 2 * precision * recall / (precision + recall)\n",
    "    \n",
    "    print(\"Precision: \", precision)\n",
    "    print(\"Recall: \", recall)\n",
    "    print(\"F1: \", f1)"
   ]
  },
  {
   "cell_type": "code",
   "execution_count": 4,
   "metadata": {},
   "outputs": [
    {
     "name": "stdout",
     "output_type": "stream",
     "text": [
      "Precision:  0.4\n",
      "Recall:  0.3333333333333333\n",
      "F1:  0.3636363636363636\n"
     ]
    }
   ],
   "source": [
    "cal_classification_metric(2, 3, 4)"
   ]
  },
  {
   "cell_type": "markdown",
   "metadata": {},
   "source": [
    "# Ex 2"
   ]
  },
  {
   "cell_type": "code",
   "execution_count": 5,
   "metadata": {},
   "outputs": [],
   "source": [
    "def is_number(n):\n",
    "    try:\n",
    "        float(n)\n",
    "    except ValueError:\n",
    "        return False\n",
    "    return True"
   ]
  },
  {
   "cell_type": "code",
   "execution_count": 8,
   "metadata": {},
   "outputs": [],
   "source": [
    "import math\n",
    "\n",
    "def activation_function(x, activation_function):\n",
    "    if not is_number(x):\n",
    "        print(\"Input value must be a number.\")\n",
    "        return\n",
    "\n",
    "    if activation_function == \"sigmoid\":\n",
    "        print(f\"Sigmoid: f({x}) = \", 1 / (1 + math.exp(-x)))\n",
    "    elif activation_function == \"relu\":\n",
    "        print(f\"RELU: f({x}) = \", max(0, x))\n",
    "    elif activation_function == \"elu\":\n",
    "        if x > 0:\n",
    "            elu = x\n",
    "        else:\n",
    "            elu = 0.01*(math.exp(x) - 1)\n",
    "        print(f\"ELU: f({x}) = \", elu)\n",
    "    else:\n",
    "        print(\"Invalid activation function.\")\n",
    "        return"
   ]
  },
  {
   "cell_type": "code",
   "execution_count": 12,
   "metadata": {},
   "outputs": [
    {
     "name": "stdout",
     "output_type": "stream",
     "text": [
      "Sigmoid: f(3) =  0.9525741268224334\n"
     ]
    }
   ],
   "source": [
    "activation_function(3, 'sigmoid')"
   ]
  },
  {
   "cell_type": "code",
   "execution_count": 23,
   "metadata": {},
   "outputs": [
    {
     "name": "stdout",
     "output_type": "stream",
     "text": [
      "RELU: f(-1.5) =  0\n"
     ]
    }
   ],
   "source": [
    "activation_function(-1.5, 'relu')"
   ]
  },
  {
   "cell_type": "code",
   "execution_count": 11,
   "metadata": {},
   "outputs": [
    {
     "name": "stdout",
     "output_type": "stream",
     "text": [
      "ELU: f(-1) =  -0.006321205588285576\n"
     ]
    }
   ],
   "source": [
    "activation_function(-1, 'elu')"
   ]
  },
  {
   "cell_type": "markdown",
   "metadata": {},
   "source": [
    "# Ex 3"
   ]
  },
  {
   "cell_type": "code",
   "execution_count": 25,
   "metadata": {},
   "outputs": [],
   "source": [
    "import random"
   ]
  },
  {
   "cell_type": "code",
   "execution_count": 26,
   "metadata": {},
   "outputs": [],
   "source": [
    "def loss_func(num_samples:int, loss_name):\n",
    "    if not num_samples.isnumeric():\n",
    "        print(\"Number of samples must be an integer.\")\n",
    "        return\n",
    "    \n",
    "    print(f\"Loss function: {loss_name}\")\n",
    "    loss_sum = 0\n",
    "\n",
    "    for i in range(int(num_samples)):\n",
    "        y_true = random.uniform(0, 10)\n",
    "        y_pred = random.uniform(0, 10)\n",
    "        if loss_name == 'MAE':\n",
    "            loss = abs(y_true - y_pred)\n",
    "        elif loss_name == 'MSE':\n",
    "            loss = (y_true - y_pred)**2\n",
    "        else:\n",
    "            print(\"Invalid loss function.\")\n",
    "            return\n",
    "        print(f\"Sample {i}, pred = {y_pred}, target = {y_true}, loss = {loss}\")\n",
    "        loss_sum += loss\n",
    "\n",
    "    print(f\"Final {loss_name}: {loss_sum/float(num_samples)}\")"
   ]
  },
  {
   "cell_type": "code",
   "execution_count": 27,
   "metadata": {},
   "outputs": [
    {
     "name": "stdout",
     "output_type": "stream",
     "text": [
      "Loss function: MAE\n",
      "Sample 0, pred = 6.39632021450515, target = 1.3127421251038462, loss = 5.083578089401303\n",
      "Sample 1, pred = 0.5470515752106564, target = 3.7689491663488752, loss = 3.2218975911382186\n",
      "Sample 2, pred = 9.665561946273312, target = 7.244537450489364, loss = 2.421024495783948\n",
      "Sample 3, pred = 4.863258799368012, target = 9.500711705049637, loss = 4.637452905681625\n",
      "Sample 4, pred = 1.6248771865463707, target = 9.548766657392424, loss = 7.923889470846053\n",
      "Final MAE: 4.65756851057023\n"
     ]
    }
   ],
   "source": [
    "loss_func('5', 'MAE')"
   ]
  },
  {
   "cell_type": "markdown",
   "metadata": {},
   "source": [
    "# Ex 4"
   ]
  },
  {
   "cell_type": "code",
   "execution_count": 28,
   "metadata": {},
   "outputs": [],
   "source": [
    "def is_number(n):\n",
    "    try:\n",
    "        float(n)\n",
    "    except ValueError:\n",
    "        return False\n",
    "    return True"
   ]
  },
  {
   "cell_type": "code",
   "execution_count": 35,
   "metadata": {},
   "outputs": [],
   "source": [
    "def approx_sin(x, n):\n",
    "    if not is_number(x) or not n.isnumeric():\n",
    "        print(\"Input values must be numbers.\")\n",
    "        return\n",
    "    \n",
    "    x = float(x)\n",
    "    n = int(n)\n",
    "\n",
    "    if n <= 0:\n",
    "        print(\"N must be greater than zero.\")\n",
    "        return\n",
    "\n",
    "    sin_x = 0\n",
    "    for i in range(n):\n",
    "        sin_x += (-1)**i * x**(2*i + 1) / math.factorial(2*i + 1)\n",
    "\n",
    "    return sin_x"
   ]
  },
  {
   "cell_type": "code",
   "execution_count": 36,
   "metadata": {},
   "outputs": [],
   "source": [
    "def approx_cos(x, n):\n",
    "    if not is_number(x) or not n.isnumeric():\n",
    "        print(\"Input values must be numbers.\")\n",
    "        return\n",
    "    \n",
    "    x = float(x)\n",
    "    n = int(n)\n",
    "\n",
    "    if n <= 0:\n",
    "        print(\"N must be greater than zero.\")\n",
    "        return\n",
    "\n",
    "    cos_x = 0\n",
    "    for i in range(n):\n",
    "        cos_x += (-1)**i * x**(2*i) / math.factorial(2*i)\n",
    "\n",
    "    return cos_x"
   ]
  },
  {
   "cell_type": "code",
   "execution_count": 37,
   "metadata": {},
   "outputs": [],
   "source": [
    "def approx_sinh(x, n):\n",
    "    if not is_number(x) or not n.isnumeric():\n",
    "        print(\"Input values must be numbers.\")\n",
    "        return\n",
    "    \n",
    "    x = float(x)\n",
    "    n = int(n)\n",
    "    \n",
    "    if n <= 0:\n",
    "        print(\"N must be greater than zero.\")\n",
    "        return\n",
    "\n",
    "    sinh_x = 0\n",
    "    for i in range(n):\n",
    "        sinh_x += x**(2*i + 1) / math.factorial(2*i + 1)\n",
    "\n",
    "    return sinh_x"
   ]
  },
  {
   "cell_type": "code",
   "execution_count": 38,
   "metadata": {},
   "outputs": [],
   "source": [
    "def approx_cosh(x, n):\n",
    "    if not is_number(x) or not n.isnumeric():\n",
    "        print(\"Input values must be numbers.\")\n",
    "        return\n",
    "    \n",
    "    x = float(x)\n",
    "    n = int(n)\n",
    "    \n",
    "    if n <= 0:\n",
    "        print(\"N must be greater than zero.\")\n",
    "        return\n",
    "\n",
    "    cosh_x = 0\n",
    "    for i in range(n):\n",
    "        cosh_x += x**(2*i) / math.factorial(2*i)\n",
    "\n",
    "    return cosh_x"
   ]
  },
  {
   "cell_type": "code",
   "execution_count": 39,
   "metadata": {},
   "outputs": [
    {
     "name": "stdout",
     "output_type": "stream",
     "text": [
      "0.001592652393160744\n"
     ]
    }
   ],
   "source": [
    "print(approx_sin(x='3.14', n='10'))"
   ]
  },
  {
   "cell_type": "code",
   "execution_count": 40,
   "metadata": {},
   "outputs": [
    {
     "name": "stdout",
     "output_type": "stream",
     "text": [
      "-0.9999987352210833\n"
     ]
    }
   ],
   "source": [
    "print(approx_cos(x='3.14', n='10'))"
   ]
  },
  {
   "cell_type": "code",
   "execution_count": 41,
   "metadata": {},
   "outputs": [
    {
     "name": "stdout",
     "output_type": "stream",
     "text": [
      "11.530292029865986\n"
     ]
    }
   ],
   "source": [
    "print(approx_sinh(x='3.14', n='10'))"
   ]
  },
  {
   "cell_type": "code",
   "execution_count": 42,
   "metadata": {},
   "outputs": [
    {
     "name": "stdout",
     "output_type": "stream",
     "text": [
      "11.573574824666185\n"
     ]
    }
   ],
   "source": [
    "print(approx_cosh(x='3.14', n='10'))"
   ]
  },
  {
   "cell_type": "markdown",
   "metadata": {},
   "source": [
    "# Ex 5"
   ]
  },
  {
   "cell_type": "code",
   "execution_count": 44,
   "metadata": {},
   "outputs": [],
   "source": [
    "def nth_root(x, n):\n",
    "    return x**(1/n)"
   ]
  },
  {
   "cell_type": "code",
   "execution_count": 45,
   "metadata": {},
   "outputs": [],
   "source": [
    "def md_nre_single_sample(y, y_hat, n, p):\n",
    "    return (nth_root(y, n) - nth_root(y_hat, n))**p"
   ]
  },
  {
   "cell_type": "code",
   "execution_count": 46,
   "metadata": {},
   "outputs": [
    {
     "name": "stdout",
     "output_type": "stream",
     "text": [
      "0.025031328369998107\n"
     ]
    }
   ],
   "source": [
    "print(md_nre_single_sample(100, 99.5, 2, 1))"
   ]
  }
 ],
 "metadata": {
  "kernelspec": {
   "display_name": "aie",
   "language": "python",
   "name": "python3"
  },
  "language_info": {
   "codemirror_mode": {
    "name": "ipython",
    "version": 3
   },
   "file_extension": ".py",
   "mimetype": "text/x-python",
   "name": "python",
   "nbconvert_exporter": "python",
   "pygments_lexer": "ipython3",
   "version": "3.11.8"
  }
 },
 "nbformat": 4,
 "nbformat_minor": 2
}
