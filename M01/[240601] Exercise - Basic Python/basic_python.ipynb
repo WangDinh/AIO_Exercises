{
 "cells": [
  {
   "cell_type": "markdown",
   "metadata": {},
   "source": [
    "# Exercise 1"
   ]
  },
  {
   "cell_type": "code",
   "execution_count": 4,
   "metadata": {},
   "outputs": [],
   "source": [
    "def cal_classification_metric(tp, fp, fn):\n",
    "    if not isinstance(tp, int) or not isinstance(fp, int) or not isinstance(fn, int):\n",
    "        print(\"Input values must be integers.\")\n",
    "        return\n",
    "\n",
    "    if tp <= 0 or fp <= 0 or fn <= 0:\n",
    "        print(\"tp and fp and fn must be greater than zero\")\n",
    "        return\n",
    "    \n",
    "    precision = tp / (tp + fp)\n",
    "    recall = tp / (tp + fn)\n",
    "    f1 = 2 * precision * recall / (precision + recall)\n",
    "    \n",
    "    print(\"Precision: \", precision)\n",
    "    print(\"Recall: \", recall)\n",
    "    print(\"F1: \", f1)"
   ]
  },
  {
   "cell_type": "code",
   "execution_count": 5,
   "metadata": {},
   "outputs": [
    {
     "name": "stdout",
     "output_type": "stream",
     "text": [
      "Precision:  0.4\n",
      "Recall:  0.3333333333333333\n",
      "F1:  0.3636363636363636\n"
     ]
    }
   ],
   "source": [
    "cal_classification_metric(2, 3, 4)"
   ]
  }
 ],
 "metadata": {
  "kernelspec": {
   "display_name": "aie",
   "language": "python",
   "name": "python3"
  },
  "language_info": {
   "codemirror_mode": {
    "name": "ipython",
    "version": 3
   },
   "file_extension": ".py",
   "mimetype": "text/x-python",
   "name": "python",
   "nbconvert_exporter": "python",
   "pygments_lexer": "ipython3",
   "version": "3.11.8"
  }
 },
 "nbformat": 4,
 "nbformat_minor": 2
}
