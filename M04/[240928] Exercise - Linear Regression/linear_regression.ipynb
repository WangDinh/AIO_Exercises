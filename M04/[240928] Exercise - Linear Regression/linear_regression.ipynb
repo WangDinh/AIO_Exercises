{
 "cells": [
  {
   "cell_type": "markdown",
   "metadata": {},
   "source": [
    "# Q1"
   ]
  },
  {
   "cell_type": "code",
   "execution_count": 19,
   "metadata": {},
   "outputs": [],
   "source": [
    "# dataset\n",
    "import numpy as np\n",
    "import matplotlib.pyplot as plt\n",
    "import random\n",
    "\n",
    "def get_column(data, index):\n",
    "    result = [row[index] for row in data]\n",
    "    return result\n",
    "\n",
    "def prepare_data(file_name_dataset):\n",
    "  data = np.genfromtxt(file_name_dataset, delimiter=',', skip_header=1).tolist()\n",
    "  N = len(data)\n",
    "\n",
    "  # get tv (index=0)\n",
    "  tv_data = get_column(data, 0)\n",
    "\n",
    "  # get radio (index=1)\n",
    "  radio_data = get_column(data, 1)\n",
    "\n",
    "  # get newspaper (index=2)\n",
    "  newspaper_data = get_column(data, 2)\n",
    "\n",
    "  # get sales (index=3)\n",
    "  sales_data = get_column(data, 3)\n",
    "\n",
    "  # building X input  and y output for training\n",
    "  X = [tv_data, radio_data, newspaper_data]\n",
    "  y = sales_data\n",
    "  return X,y"
   ]
  },
  {
   "cell_type": "code",
   "execution_count": 20,
   "metadata": {},
   "outputs": [
    {
     "name": "stdout",
     "output_type": "stream",
     "text": [
      "[624.1, 175.10000000000002, 300.5, 78.9]\n"
     ]
    }
   ],
   "source": [
    "#Multiple choices:\n",
    "#Question 1:\n",
    "X,y = prepare_data('advertising.csv')\n",
    "list = [sum(X[0][:5]), sum(X[1][:5]), sum(X[2][:5]), sum(y[:5])]\n",
    "print(list)"
   ]
  },
  {
   "cell_type": "markdown",
   "metadata": {},
   "source": [
    "# Q2"
   ]
  },
  {
   "cell_type": "code",
   "execution_count": 21,
   "metadata": {},
   "outputs": [],
   "source": [
    "def implement_linear_regression(X_data, y_data, epoch_max=50, lr=1e-5):\n",
    "    losses = []\n",
    "\n",
    "    w1, w2, w3, b = initialize_params()  # Initialize weights and bias\n",
    "    \n",
    "    N = len(y_data)\n",
    "    \n",
    "    for epoch in range(epoch_max):\n",
    "        for i in range(N):\n",
    "            # Get a sample\n",
    "            x1 = X_data[0][i]\n",
    "            x2 = X_data[1][i]\n",
    "            x3 = X_data[2][i]\n",
    "            y = y_data[i]\n",
    "\n",
    "            # Compute output\n",
    "            y_hat = predict(x1, x2, x3, w1, w2, w3, b)\n",
    "\n",
    "            # Compute loss\n",
    "            loss = compute_loss(y, y_hat)\n",
    "\n",
    "            # Compute gradient for w1, w2, w3, and b\n",
    "            dl_dw1 = compute_gradient_wi(x1, y, y_hat)\n",
    "            dl_dw2 = compute_gradient_wi(x2, y, y_hat)\n",
    "            dl_dw3 = compute_gradient_wi(x3, y, y_hat)\n",
    "            dl_db = compute_gradient_b(y, y_hat)\n",
    "\n",
    "            # Update parameters\n",
    "            w1 = update_weight_wi(w1, dl_dw1, lr)\n",
    "            w2 = update_weight_wi(w2, dl_dw2, lr)\n",
    "            w3 = update_weight_wi(w3, dl_dw3, lr)\n",
    "            b = update_weight_b(b, dl_db, lr)\n",
    "\n",
    "        # Logging the loss for each epoch\n",
    "        losses.append(loss)\n",
    "\n",
    "    return (w1, w2, w3, b, losses)\n"
   ]
  },
  {
   "cell_type": "code",
   "execution_count": 22,
   "metadata": {},
   "outputs": [],
   "source": [
    "def initialize_params():\n",
    "    # w1 = random.gauss(mu=0.0, sigma=0.01)\n",
    "    # w2 = random.gauss(mu=0.0, sigma=0.01)\n",
    "    # w3 = random.gauss(mu=0.0, sigma=0.01)\n",
    "    # b  = 0\n",
    "\n",
    "    w1, w2, w3, b = (0.016992259082509283, 0.0070783670518262355, -0.002307860847821344, 0)\n",
    "    return w1, w2, w3, b"
   ]
  },
  {
   "cell_type": "code",
   "execution_count": 23,
   "metadata": {},
   "outputs": [],
   "source": [
    "def predict(x1, x2, x3, w1, w2, w3, b):\n",
    "    result = w1 * x1 + w2 * x2 + w3 * x3 + b  # Linear model prediction\n",
    "    return result"
   ]
  },
  {
   "cell_type": "code",
   "execution_count": 24,
   "metadata": {},
   "outputs": [
    {
     "name": "stdout",
     "output_type": "stream",
     "text": [
      "1.0\n"
     ]
    }
   ],
   "source": [
    "#Multiple choices:\n",
    "#Question 2:\n",
    "y_p = predict(x1 = 1, x2 =1, x3=1, w1=0, w2=0.5, w3=0, b=0.5)\n",
    "print(y_p)"
   ]
  },
  {
   "cell_type": "code",
   "execution_count": 25,
   "metadata": {},
   "outputs": [],
   "source": [
    "def compute_loss(y_hat, y):\n",
    "    result = np.mean((y_hat - y) ** 2)  # MSE formula\n",
    "    return result"
   ]
  },
  {
   "cell_type": "code",
   "execution_count": 26,
   "metadata": {},
   "outputs": [
    {
     "name": "stdout",
     "output_type": "stream",
     "text": [
      "0.25\n"
     ]
    }
   ],
   "source": [
    "#Multiple choices:\n",
    "#Question 3:\n",
    "l = compute_loss(y_hat=1, y=0.5)\n",
    "print(l)"
   ]
  },
  {
   "cell_type": "code",
   "execution_count": 27,
   "metadata": {},
   "outputs": [],
   "source": [
    "# Compute gradient with respect to wi (weights)\n",
    "def compute_gradient_wi(xi, y, y_hat):\n",
    "    dl_dwi = -2 * np.mean((y - y_hat) * xi)  # Gradient of MSE wrt weight wi\n",
    "    return dl_dwi\n",
    "\n",
    "# Compute gradient with respect to b (bias)\n",
    "def compute_gradient_b(y, y_hat):\n",
    "    dl_db = -2 * np.mean(y - y_hat)  # Gradient of MSE wrt bias\n",
    "    return dl_db"
   ]
  },
  {
   "cell_type": "code",
   "execution_count": 28,
   "metadata": {},
   "outputs": [
    {
     "name": "stdout",
     "output_type": "stream",
     "text": [
      "-1.0\n"
     ]
    }
   ],
   "source": [
    "#Multiple choices:\n",
    "#Question 4:\n",
    "g_wi = compute_gradient_wi(xi=1.0, y=1.0, y_hat=0.5)\n",
    "print(g_wi)"
   ]
  },
  {
   "cell_type": "code",
   "execution_count": 29,
   "metadata": {},
   "outputs": [
    {
     "name": "stdout",
     "output_type": "stream",
     "text": [
      "-3.0\n"
     ]
    }
   ],
   "source": [
    "#Multiple choices:\n",
    "#Question 5:\n",
    "g_b =  compute_gradient_b(y=2.0, y_hat=0.5)\n",
    "print(g_b)"
   ]
  },
  {
   "cell_type": "code",
   "execution_count": 30,
   "metadata": {},
   "outputs": [],
   "source": [
    "# Update weights using the gradient and learning rate\n",
    "def update_weight_wi(wi, dl_dwi, lr):\n",
    "    wi = wi - lr * dl_dwi  # Update rule for weights\n",
    "    return wi\n",
    "\n",
    "# Update bias using the gradient and learning rate\n",
    "def update_weight_b(b, dl_db, lr):    \n",
    "    b = b - lr * dl_db  # Update rule for bias\n",
    "    return b"
   ]
  },
  {
   "cell_type": "code",
   "execution_count": 31,
   "metadata": {},
   "outputs": [
    {
     "name": "stdout",
     "output_type": "stream",
     "text": [
      "1.000005\n"
     ]
    }
   ],
   "source": [
    "#Multiple choices:\n",
    "#Question 6:\n",
    "after_wi = update_weight_wi(wi=1.0, dl_dwi=-0.5, lr = 1e-5)\n",
    "print(after_wi)"
   ]
  },
  {
   "cell_type": "code",
   "execution_count": 32,
   "metadata": {},
   "outputs": [
    {
     "name": "stdout",
     "output_type": "stream",
     "text": [
      "0.50001\n"
     ]
    }
   ],
   "source": [
    "#Multiple choices:\n",
    "#Question 7:\n",
    "after_b = update_weight_b(b=0.5, dl_db=-1.0, lr = 1e-5)\n",
    "print(after_b)    \n"
   ]
  },
  {
   "cell_type": "code",
   "execution_count": 33,
   "metadata": {},
   "outputs": [
    {
     "data": {
      "image/png": "[encoded data removed]",
      "text/plain": [
       "<Figure size 640x480 with 1 Axes>"
      ]
     },
     "metadata": {},
     "output_type": "display_data"
    }
   ],
   "source": [
    "X,y = prepare_data('advertising.csv')\n",
    "(w1,w2,w3,b, losses) = implement_linear_regression(X,y)\n",
    "plt.plot(losses[:100])\n",
    "plt.xlabel(\"#iteration\")\n",
    "plt.ylabel(\"Loss\")\n",
    "plt.show()"
   ]
  },
  {
   "cell_type": "code",
   "execution_count": 34,
   "metadata": {},
   "outputs": [
    {
     "name": "stdout",
     "output_type": "stream",
     "text": [
      "0.07405984066396477 0.15917360263437663 0.017561197559948935\n"
     ]
    }
   ],
   "source": [
    "#Multiple choices:\n",
    "#Question 8:\n",
    "X,y = prepare_data('advertising.csv')\n",
    "(w1,w2,w3,b, losses) = implement_linear_regression(X,y)\n",
    "print(w1,w2,w3)"
   ]
  },
  {
   "cell_type": "code",
   "execution_count": 35,
   "metadata": {},
   "outputs": [
    {
     "name": "stdout",
     "output_type": "stream",
     "text": [
      "predicted sales is 8.176413319549823\n"
     ]
    }
   ],
   "source": [
    "#Multiple choices:\n",
    "#Question 9:\n",
    "# given new data\n",
    "tv = 19.2\n",
    "radio = 35.9 \n",
    "newspaper = 51.3\n",
    "\n",
    "X,y = prepare_data('advertising.csv')\n",
    "(w1,w2,w3,b, losses) = implement_linear_regression(X,y)\n",
    "sales = predict(tv, radio, newspaper, w1, w2, w3, b)\n",
    "print(f'predicted sales is {sales}')"
   ]
  },
  {
   "cell_type": "code",
   "execution_count": 36,
   "metadata": {},
   "outputs": [],
   "source": [
    "# Compute mean absolute error (MAE) loss\n",
    "def compute_loss_mae(y_hat, y):\n",
    "    result = np.mean(np.abs(y_hat - y))  # MAE formula\n",
    "    return result"
   ]
  },
  {
   "cell_type": "code",
   "execution_count": 37,
   "metadata": {},
   "outputs": [
    {
     "name": "stdout",
     "output_type": "stream",
     "text": [
      "0.5\n"
     ]
    }
   ],
   "source": [
    "l = compute_loss_mae(y_hat=1, y=0.5)\n",
    "print(l)"
   ]
  },
  {
   "cell_type": "code",
   "execution_count": 41,
   "metadata": {},
   "outputs": [],
   "source": [
    "def implement_linear_regression_nsamples(X_data, y_data, epoch_max=50, lr=1e-5):\n",
    "    losses = []\n",
    "\n",
    "    # Initialize weights and bias\n",
    "    w1, w2, w3, b = initialize_params()\n",
    "    N = len(y_data)\n",
    "\n",
    "    for epoch in range(epoch_max):\n",
    "        loss_total = 0.0\n",
    "        dw1_total = 0.0\n",
    "        dw2_total = 0.0\n",
    "        dw3_total = 0.0\n",
    "        db_total = 0.0\n",
    "\n",
    "        # Loop over all samples in the dataset\n",
    "        for i in range(N):\n",
    "            # Get a sample\n",
    "            x1 = X_data[0][i]\n",
    "            x2 = X_data[1][i]\n",
    "            x3 = X_data[2][i]\n",
    "            y = y_data[i]\n",
    "\n",
    "            # Compute output\n",
    "            y_hat = predict(x1, x2, x3, w1, w2, w3, b)\n",
    "\n",
    "            # Compute loss (Mean Absolute Error in this case)\n",
    "            loss = compute_loss_mae(y, y_hat)\n",
    "\n",
    "            # Accumulate loss to total loss\n",
    "            loss_total += loss\n",
    "\n",
    "            # Compute gradient for w1, w2, w3, and b\n",
    "            dl_dw1 = compute_gradient_wi(x1, y, y_hat)\n",
    "            dl_dw2 = compute_gradient_wi(x2, y, y_hat)\n",
    "            dl_dw3 = compute_gradient_wi(x3, y, y_hat)\n",
    "            dl_db = compute_gradient_b(y, y_hat)\n",
    "\n",
    "            # Accumulate gradients for all weights and bias\n",
    "            dw1_total += dl_dw1\n",
    "            dw2_total += dl_dw2\n",
    "            dw3_total += dl_dw3\n",
    "            db_total += dl_db\n",
    "\n",
    "        # After processing N samples, update weights and bias\n",
    "        w1 = update_weight_wi(w1, dw1_total/N, lr)\n",
    "        w2 = update_weight_wi(w2, dw2_total/N, lr)\n",
    "        w3 = update_weight_wi(w3, dw3_total/N, lr)\n",
    "        b = update_weight_b(b, db_total/N, lr)\n",
    "\n",
    "        # Logging the average loss for this epoch\n",
    "        losses.append(loss_total / N)\n",
    "\n",
    "    return (w1, w2, w3, b, losses)\n"
   ]
  },
  {
   "cell_type": "code",
   "execution_count": 43,
   "metadata": {},
   "outputs": [
    {
     "data": {
      "image/png": "[encoded data removed]",
      "text/plain": [
       "<Figure size 640x480 with 1 Axes>"
      ]
     },
     "metadata": {},
     "output_type": "display_data"
    }
   ],
   "source": [
    "X,y = prepare_data('advertising.csv')\n",
    "(w1,w2,w3,b, losses) = implement_linear_regression_nsamples(X,y,1000)\n",
    "plt.plot(losses)\n",
    "plt.xlabel(\"#epoch\")\n",
    "plt.ylabel(\"MAE Loss\")\n",
    "plt.show()"
   ]
  },
  {
   "cell_type": "code",
   "execution_count": 45,
   "metadata": {},
   "outputs": [
    {
     "name": "stdout",
     "output_type": "stream",
     "text": [
      "0.06710990754044266 0.15756173831487585 0.029619799386084403\n"
     ]
    }
   ],
   "source": [
    "#Multiple choices:\n",
    "#Question 11:\n",
    "X,y = prepare_data('advertising.csv')\n",
    "(w1,w2,w3,b, losses) = implement_linear_regression_nsamples(X,y,1000)\n",
    "print(w1,w2,w3)"
   ]
  },
  {
   "cell_type": "markdown",
   "metadata": {},
   "source": [
    "# Q4"
   ]
  },
  {
   "cell_type": "code",
   "execution_count": 46,
   "metadata": {},
   "outputs": [],
   "source": [
    "def initialize_params():\n",
    "    bias = 0  # Initialize bias to 0\n",
    "    w1 = random.gauss(mu=0.0, sigma=0.01)  # Initialize weight 1 with a small Gaussian noise\n",
    "    w2 = random.gauss(mu=0.0, sigma=0.01)  # Initialize weight 2 similarly\n",
    "    w3 = random.gauss(mu=0.0, sigma=0.01)  # Initialize weight 3 similarly\n",
    "\n",
    "    # For testing, return these specific values (can be commented out in real application)\n",
    "    return [0, -0.01268850433497871, 0.004752496982185252, 0.0073796171538643845]"
   ]
  },
  {
   "cell_type": "code",
   "execution_count": 50,
   "metadata": {},
   "outputs": [],
   "source": [
    "def predict(X_features, weights):\n",
    "    # Calculate the predicted output\n",
    "    result = np.dot(X_features, weights)  # Using dot product to calculate y\n",
    "    return result\n",
    "\n",
    "def compute_loss(y_hat, y):\n",
    "    return (y_hat - y) ** 2  # Squared loss\n",
    "\n",
    "def compute_gradient_w(X_features, y, y_hat):\n",
    "    # Compute the gradient of the loss with respect to the weights\n",
    "    dl_dweights = 2 * np.dot(X_features.T, (y_hat - y)) / len(y)  # Mean squared error gradient\n",
    "    return dl_dweights\n",
    "\n",
    "def update_weight(weights, dl_dweights, lr):\n",
    "    # Update the weights based on the gradient and learning rate\n",
    "    weights -= lr * dl_dweights  # Gradient descent update\n",
    "    return weights"
   ]
  },
  {
   "cell_type": "code",
   "execution_count": 56,
   "metadata": {},
   "outputs": [
    {
     "name": "stdout",
     "output_type": "stream",
     "text": [
      "epoch:  0\n"
     ]
    },
    {
     "ename": "ValueError",
     "evalue": "shapes (200,) and (4,) not aligned: 200 (dim 0) != 4 (dim 0)",
     "output_type": "error",
     "traceback": [
      "\u001b[1;31m---------------------------------------------------------------------------\u001b[0m",
      "\u001b[1;31mValueError\u001b[0m                                Traceback (most recent call last)",
      "Cell \u001b[1;32mIn[56], line 18\u001b[0m\n\u001b[0;32m     15\u001b[0m     \u001b[38;5;28;01mreturn\u001b[39;00m (weight, losses)\n\u001b[0;32m     17\u001b[0m X,y \u001b[38;5;241m=\u001b[39m prepare_data(\u001b[38;5;124m'\u001b[39m\u001b[38;5;124madvertising.csv\u001b[39m\u001b[38;5;124m'\u001b[39m)\n\u001b[1;32m---> 18\u001b[0m W,L \u001b[38;5;241m=\u001b[39m \u001b[43mimplement_linear_regression\u001b[49m\u001b[43m(\u001b[49m\u001b[43mX\u001b[49m\u001b[43m,\u001b[49m\u001b[43m \u001b[49m\u001b[43my\u001b[49m\u001b[43m)\u001b[49m\n\u001b[0;32m     19\u001b[0m plt\u001b[38;5;241m.\u001b[39mplot(L)\n\u001b[0;32m     20\u001b[0m plt\u001b[38;5;241m.\u001b[39mxlabel(\u001b[38;5;124m\"\u001b[39m\u001b[38;5;124m#iteration\u001b[39m\u001b[38;5;124m\"\u001b[39m)\n",
      "Cell \u001b[1;32mIn[56], line 10\u001b[0m, in \u001b[0;36mimplement_linear_regression\u001b[1;34m(X_feature, y_output, epoch_max, lr)\u001b[0m\n\u001b[0;32m      8\u001b[0m feature_i \u001b[38;5;241m=\u001b[39m X_feature[i]\n\u001b[0;32m      9\u001b[0m y \u001b[38;5;241m=\u001b[39m y_output[i]\n\u001b[1;32m---> 10\u001b[0m y_hat \u001b[38;5;241m=\u001b[39m \u001b[43mpredict\u001b[49m\u001b[43m(\u001b[49m\u001b[43mfeature_i\u001b[49m\u001b[43m,\u001b[49m\u001b[43m \u001b[49m\u001b[43mweight\u001b[49m\u001b[43m)\u001b[49m\n\u001b[0;32m     11\u001b[0m loss \u001b[38;5;241m=\u001b[39m compute_loss(y, y_hat)\n\u001b[0;32m     12\u001b[0m dl_dweights \u001b[38;5;241m=\u001b[39m compute_gradient_w(feature_i, y, y_hat)\n",
      "Cell \u001b[1;32mIn[50], line 3\u001b[0m, in \u001b[0;36mpredict\u001b[1;34m(X_features, weights)\u001b[0m\n\u001b[0;32m      1\u001b[0m \u001b[38;5;28;01mdef\u001b[39;00m \u001b[38;5;21mpredict\u001b[39m(X_features, weights):\n\u001b[0;32m      2\u001b[0m     \u001b[38;5;66;03m# Calculate the predicted output\u001b[39;00m\n\u001b[1;32m----> 3\u001b[0m     result \u001b[38;5;241m=\u001b[39m \u001b[43mnp\u001b[49m\u001b[38;5;241;43m.\u001b[39;49m\u001b[43mdot\u001b[49m\u001b[43m(\u001b[49m\u001b[43mX_features\u001b[49m\u001b[43m,\u001b[49m\u001b[43m \u001b[49m\u001b[43mweights\u001b[49m\u001b[43m)\u001b[49m  \u001b[38;5;66;03m# Using dot product to calculate y\u001b[39;00m\n\u001b[0;32m      4\u001b[0m     \u001b[38;5;28;01mreturn\u001b[39;00m result\n",
      "\u001b[1;31mValueError\u001b[0m: shapes (200,) and (4,) not aligned: 200 (dim 0) != 4 (dim 0)"
     ]
    }
   ],
   "source": [
    "def implement_linear_regression(X_feature, y_output, epoch_max=50, lr=1e-5):\n",
    "    losses = []\n",
    "    weight = initialize_params()  # Initialize weights and bias\n",
    "    N = len(y_output)   \n",
    "    for epoch in range(epoch_max):\n",
    "        print(\"epoch: \", epoch)\n",
    "        for i in range(N):\n",
    "            feature_i = X_feature[i]\n",
    "            y = y_output[i]\n",
    "            y_hat = predict(feature_i, weight)\n",
    "            loss = compute_loss(y, y_hat)\n",
    "            dl_dweights = compute_gradient_w(feature_i, y, y_hat)\n",
    "            weight = update_weight(weight, dl_dweights, lr)\n",
    "            losses.append(loss)\n",
    "    return (weight, losses)\n",
    "\n",
    "X,y = prepare_data('advertising.csv')\n",
    "W,L = implement_linear_regression(X, y)\n",
    "plt.plot(L)\n",
    "plt.xlabel(\"#iteration\")\n",
    "plt.ylabel(\"Loss\")\n",
    "plt.show()"
   ]
  }
 ],
 "metadata": {
  "kernelspec": {
   "display_name": "aie",
   "language": "python",
   "name": "python3"
  },
  "language_info": {
   "codemirror_mode": {
    "name": "ipython",
    "version": 3
   },
   "file_extension": ".py",
   "mimetype": "text/x-python",
   "name": "python",
   "nbconvert_exporter": "python",
   "pygments_lexer": "ipython3",
   "version": "3.11.8"
  }
 },
 "nbformat": 4,
 "nbformat_minor": 2
}
