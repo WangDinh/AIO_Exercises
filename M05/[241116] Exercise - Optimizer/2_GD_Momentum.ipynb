{
 "cells": [
  {
   "cell_type": "code",
   "execution_count": 111,
   "metadata": {},
   "outputs": [],
   "source": [
    "import numpy as np"
   ]
  },
  {
   "cell_type": "code",
   "execution_count": 112,
   "metadata": {},
   "outputs": [],
   "source": [
    "def df_w(W):\n",
    "    \"\"\"\n",
    "    Thực hiện tính gradient của dw1 và dw2\n",
    "    Arguments:\n",
    "    W -- np.array [w1, w2]\n",
    "    Returns:\n",
    "    dW -- np.array [dw1, dw2], array chứa giá trị đạo hàm theo w1 và w2\n",
    "    \"\"\"\n",
    "    #################### YOUR CODE HERE ####################\n",
    "    w1, w2 = W\n",
    "    dW1 = 0.2 * w1\n",
    "    dW2 = 4 * w2\n",
    "\n",
    "    dW = np.array([dW1, dW2])\n",
    "    ########################################################\n",
    "\n",
    "    return dW"
   ]
  },
  {
   "cell_type": "code",
   "execution_count": 113,
   "metadata": {},
   "outputs": [],
   "source": [
    "def sgd_momentum(W, dW, lr, V, beta):\n",
    "    \"\"\"\n",
    "    Thực hiện thuật tóan Gradient Descent + Momentum để update w1 và w2\n",
    "    Arguments:\n",
    "    W -- np.array: [w1, w2]\n",
    "    dW -- np.array: [dw1, dw2], array chứa giá trị đạo hàm theo w1 và w2\n",
    "    lr -- float: learning rate\n",
    "    V -- np.array: [v1, v2] Exponentially weighted averages gradients\n",
    "    beta -- float: hệ số long-range average\n",
    "    Returns:\n",
    "    W -- np.array: [w1, w2] w1 và w2 sau khi đã update\n",
    "    V -- np.array: [v1, v2] Exponentially weighted averages gradients sau khi đã cập nhật\n",
    "    \"\"\"\n",
    "    #################### YOUR CODE HERE ####################\n",
    "\n",
    "    V = beta * V + (1 - beta) * dW\n",
    "    W = W - lr * V\n",
    "    ########################################################\n",
    "    return W"
   ]
  },
  {
   "cell_type": "code",
   "execution_count": 114,
   "metadata": {},
   "outputs": [],
   "source": [
    "def train_p1(optimizer, lr, epochs):\n",
    "    \"\"\"\n",
    "    Thực hiện tìm điểm minimum của function (1) dựa vào thuật toán\n",
    "    được truyền vào từ optimizer\n",
    "    Arguments:\n",
    "    optimize : function thực hiện thuật toán optimization cụ thể\n",
    "    lr -- float: learning rate\n",
    "    epochs -- int: số lượng lần (epoch) lặp để tìm điểm minimum\n",
    "    Returns:\n",
    "    results -- list: list các cặp điểm [w1, w2] sau mỗi epoch (mỗi lần cập nhật)\n",
    "    \"\"\"\n",
    "    # initial\n",
    "    W = np.array([-5, -2], dtype=np.float32)\n",
    "    V = np.array([0, 0], dtype=np.float32)\n",
    "    beta = 0.9\n",
    "    results = [W]\n",
    "    #################### YOUR CODE HERE ####################\n",
    "    # Tạo vòng lặp theo số lần epochs\n",
    "    # tìm gradient dW gồm dw1 và dw2\n",
    "    # dùng thuật toán optimization cập nhật w1, w2, v1, v2\n",
    "    # append cặp [w1, w2] vào list results\n",
    "    for i in range(epochs):\n",
    "        dW = df_w(W)\n",
    "        W = optimizer(W, dW, lr, V, beta)\n",
    "        results.append(W)\n",
    "\n",
    "    ########################################################\n",
    "    return results"
   ]
  },
  {
   "cell_type": "code",
   "execution_count": 115,
   "metadata": {},
   "outputs": [
    {
     "data": {
      "text/plain": [
       "[array([-5., -2.], dtype=float32),\n",
       " array([-4.94, -1.52]),\n",
       " array([-4.88072, -1.1552 ]),\n",
       " array([-4.82215136, -0.877952  ]),\n",
       " array([-4.76428554, -0.66724352]),\n",
       " array([-4.70711412, -0.50710508]),\n",
       " array([-4.65062875, -0.38539986]),\n",
       " array([-4.5948212 , -0.29290389]),\n",
       " array([-4.53968335, -0.22260696]),\n",
       " array([-4.48520715, -0.16918129]),\n",
       " array([-4.43138466, -0.12857778]),\n",
       " array([-4.37820805, -0.09771911]),\n",
       " array([-4.32566955, -0.07426652]),\n",
       " array([-4.27376152, -0.05644256]),\n",
       " array([-4.22247638, -0.04289634]),\n",
       " array([-4.17180666, -0.03260122]),\n",
       " array([-4.12174498, -0.02477693]),\n",
       " array([-4.07228404, -0.01883047]),\n",
       " array([-4.02341663, -0.01431115]),\n",
       " array([-3.97513563, -0.01087648]),\n",
       " array([-3.92743401, -0.00826612]),\n",
       " array([-3.8803048 , -0.00628225]),\n",
       " array([-3.83374114, -0.00477451]),\n",
       " array([-3.78773625e+00, -3.62862943e-03]),\n",
       " array([-3.74228341e+00, -2.75775836e-03]),\n",
       " array([-3.69737601e+00, -2.09589636e-03]),\n",
       " array([-3.65300750e+00, -1.59288123e-03]),\n",
       " array([-3.60917141e+00, -1.21058974e-03]),\n",
       " array([-3.56586135e+00, -9.20048199e-04]),\n",
       " array([-3.52307101e+00, -6.99236631e-04]),\n",
       " array([-3.48079416e+00, -5.31419840e-04])]"
      ]
     },
     "execution_count": 115,
     "metadata": {},
     "output_type": "execute_result"
    }
   ],
   "source": [
    "train_p1(sgd_momentum, lr=0.6, epochs=30)"
   ]
  }
 ],
 "metadata": {
  "kernelspec": {
   "display_name": "aie",
   "language": "python",
   "name": "python3"
  },
  "language_info": {
   "codemirror_mode": {
    "name": "ipython",
    "version": 3
   },
   "file_extension": ".py",
   "mimetype": "text/x-python",
   "name": "python",
   "nbconvert_exporter": "python",
   "pygments_lexer": "ipython3",
   "version": "3.11.8"
  }
 },
 "nbformat": 4,
 "nbformat_minor": 2
}
